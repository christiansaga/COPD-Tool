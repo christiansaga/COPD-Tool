{
  "cells": [
    {
      "cell_type": "markdown",
      "id": "3be7f4ca0fe9a7ab",
      "metadata": {
        "id": "3be7f4ca0fe9a7ab"
      },
      "source": [
        "# COPD Hospital Admission Prediction Project\n",
        "\n",
        "This project's goal is to predict the likelihood of hospital admission for patients with Chronic Obstructive Pulmonary Disease (COPD).\n",
        "By implementing machine learning, we collect patient severity levels on symptoms and medical history that can assist healthcare professionals\n",
        "in decision-making.\n",
        "\n",
        "## Goals:\n",
        "1. Preprocess the dataset to make it ready for machine learning.\n",
        "2. Train a logistic regression model to predict hospital admissions.\n",
        "3. Evaluate the model using metrics such as precision, recall, F1-score, and ROC-AUC.\n",
        "4. Save the trained model for deployment.\n",
        "\n"
      ]
    },
    {
      "cell_type": "markdown",
      "id": "df3d8ecb410f3b6f",
      "metadata": {
        "id": "df3d8ecb410f3b6f"
      },
      "source": [
        "## PART 1: Import Libraries\n",
        "Load all needed libraries for app to function"
      ]
    },
    {
      "cell_type": "code",
      "id": "3df6b1ce97f8c8a0",
      "metadata": {
        "id": "3df6b1ce97f8c8a0"
      },
      "source": [
        "# Importing necessary libraries\n",
        "import os\n",
        "import pandas as pd\n",
        "import numpy as np\n",
        "from sklearn.model_selection import train_test_split\n",
        "from sklearn.preprocessing import StandardScaler\n",
        "from sklearn.linear_model import LogisticRegression\n",
        "from sklearn.metrics import confusion_matrix, classification_report, roc_auc_score\n",
        "import joblib\n"
      ],
      "outputs": [],
      "execution_count": 2
    },
    {
      "cell_type": "markdown",
      "id": "8c82004bae7d03be",
      "metadata": {
        "id": "8c82004bae7d03be"
      },
      "source": [
        "## PART 2: Load the Dataset\n",
        "This part loads the preprocessed dataset and displays the first five rows to view the current data structure.\n"
      ]
    },
    {
      "cell_type": "code",
      "id": "58d231ff72b5bb39",
      "metadata": {
        "id": "58d231ff72b5bb39",
        "outputId": "4807b6e3-b5d1-46a9-c981-6a7111ccb1c2",
        "colab": {
          "base_uri": "https://localhost:8080/",
          "height": 262
        }
      },
      "source": [
        "# Dynamically locate the project root and construct the file path\n",
        "from google.colab import drive\n",
        "drive.mount('/content/drive')\n",
        "\n",
        "\n",
        "notebook_dir = os.path.abspath(os.getcwd())\n",
        "base_dir = os.path.abspath(os.path.join(notebook_dir, '..'))  # Go up one directory\n",
        "data_file = \"/content/drive/MyDrive/Data/copd_data_preprocessed.csv\"\n",
        "\n",
        "# Load the data\n",
        "try:\n",
        "    df = pd.read_csv(data_file)\n",
        "    print(\"Data loaded successfully!\")\n",
        "    display(df.head())\n",
        "except FileNotFoundError as e:\n",
        "    print(f\"Error: {e}\")\n",
        "    print(f\"Ensure the file exists at: {data_file}\")\n"
      ],
      "outputs": [
        {
          "output_type": "stream",
          "name": "stdout",
          "text": [
            "Mounted at /content/drive\n",
            "Data loaded successfully!\n"
          ]
        },
        {
          "output_type": "display_data",
          "data": {
            "text/plain": [
              "   Shortness_of_Breath  Cough_Intensity  Chest_Tightness  Wheezing   Fatigue  \\\n",
              "0            -1.210553         0.134556         1.259235  1.519242 -1.205659   \n",
              "1             0.170568         1.161704        -0.798899  1.519242  1.234946   \n",
              "2             0.515849         0.476939        -0.112854 -1.252465  1.583604   \n",
              "3            -1.555833         1.504086         1.602257 -0.906002  0.537630   \n",
              "4            -0.865272        -0.207826        -0.798899 -1.598928  0.886288   \n",
              "\n",
              "        Age  Smoking_History  Comorbidities  Mucus_Amount  Mucus_Color  \\\n",
              "0 -1.460718                2              0      0.331530            2   \n",
              "1  1.097208                2              2     -1.525783            0   \n",
              "2  1.523529                0              1     -0.597126            0   \n",
              "3  0.244566                2              0     -1.216230            0   \n",
              "4 -1.318611                1              1      1.569739            0   \n",
              "\n",
              "   Fever_Last_2_Weeks  Respiratory_Rate  Hospital_Admission  \n",
              "0                   0         -1.378438                   1  \n",
              "1                   0          1.627848                   1  \n",
              "2                   1          1.405161                   1  \n",
              "3                   0         -0.599030                   1  \n",
              "4                   1          0.069033                   1  "
            ],
            "text/html": [
              "\n",
              "  <div id=\"df-49d3e355-a1b0-4791-bf82-d7a9aaff4f9f\" class=\"colab-df-container\">\n",
              "    <div>\n",
              "<style scoped>\n",
              "    .dataframe tbody tr th:only-of-type {\n",
              "        vertical-align: middle;\n",
              "    }\n",
              "\n",
              "    .dataframe tbody tr th {\n",
              "        vertical-align: top;\n",
              "    }\n",
              "\n",
              "    .dataframe thead th {\n",
              "        text-align: right;\n",
              "    }\n",
              "</style>\n",
              "<table border=\"1\" class=\"dataframe\">\n",
              "  <thead>\n",
              "    <tr style=\"text-align: right;\">\n",
              "      <th></th>\n",
              "      <th>Shortness_of_Breath</th>\n",
              "      <th>Cough_Intensity</th>\n",
              "      <th>Chest_Tightness</th>\n",
              "      <th>Wheezing</th>\n",
              "      <th>Fatigue</th>\n",
              "      <th>Age</th>\n",
              "      <th>Smoking_History</th>\n",
              "      <th>Comorbidities</th>\n",
              "      <th>Mucus_Amount</th>\n",
              "      <th>Mucus_Color</th>\n",
              "      <th>Fever_Last_2_Weeks</th>\n",
              "      <th>Respiratory_Rate</th>\n",
              "      <th>Hospital_Admission</th>\n",
              "    </tr>\n",
              "  </thead>\n",
              "  <tbody>\n",
              "    <tr>\n",
              "      <th>0</th>\n",
              "      <td>-1.210553</td>\n",
              "      <td>0.134556</td>\n",
              "      <td>1.259235</td>\n",
              "      <td>1.519242</td>\n",
              "      <td>-1.205659</td>\n",
              "      <td>-1.460718</td>\n",
              "      <td>2</td>\n",
              "      <td>0</td>\n",
              "      <td>0.331530</td>\n",
              "      <td>2</td>\n",
              "      <td>0</td>\n",
              "      <td>-1.378438</td>\n",
              "      <td>1</td>\n",
              "    </tr>\n",
              "    <tr>\n",
              "      <th>1</th>\n",
              "      <td>0.170568</td>\n",
              "      <td>1.161704</td>\n",
              "      <td>-0.798899</td>\n",
              "      <td>1.519242</td>\n",
              "      <td>1.234946</td>\n",
              "      <td>1.097208</td>\n",
              "      <td>2</td>\n",
              "      <td>2</td>\n",
              "      <td>-1.525783</td>\n",
              "      <td>0</td>\n",
              "      <td>0</td>\n",
              "      <td>1.627848</td>\n",
              "      <td>1</td>\n",
              "    </tr>\n",
              "    <tr>\n",
              "      <th>2</th>\n",
              "      <td>0.515849</td>\n",
              "      <td>0.476939</td>\n",
              "      <td>-0.112854</td>\n",
              "      <td>-1.252465</td>\n",
              "      <td>1.583604</td>\n",
              "      <td>1.523529</td>\n",
              "      <td>0</td>\n",
              "      <td>1</td>\n",
              "      <td>-0.597126</td>\n",
              "      <td>0</td>\n",
              "      <td>1</td>\n",
              "      <td>1.405161</td>\n",
              "      <td>1</td>\n",
              "    </tr>\n",
              "    <tr>\n",
              "      <th>3</th>\n",
              "      <td>-1.555833</td>\n",
              "      <td>1.504086</td>\n",
              "      <td>1.602257</td>\n",
              "      <td>-0.906002</td>\n",
              "      <td>0.537630</td>\n",
              "      <td>0.244566</td>\n",
              "      <td>2</td>\n",
              "      <td>0</td>\n",
              "      <td>-1.216230</td>\n",
              "      <td>0</td>\n",
              "      <td>0</td>\n",
              "      <td>-0.599030</td>\n",
              "      <td>1</td>\n",
              "    </tr>\n",
              "    <tr>\n",
              "      <th>4</th>\n",
              "      <td>-0.865272</td>\n",
              "      <td>-0.207826</td>\n",
              "      <td>-0.798899</td>\n",
              "      <td>-1.598928</td>\n",
              "      <td>0.886288</td>\n",
              "      <td>-1.318611</td>\n",
              "      <td>1</td>\n",
              "      <td>1</td>\n",
              "      <td>1.569739</td>\n",
              "      <td>0</td>\n",
              "      <td>1</td>\n",
              "      <td>0.069033</td>\n",
              "      <td>1</td>\n",
              "    </tr>\n",
              "  </tbody>\n",
              "</table>\n",
              "</div>\n",
              "    <div class=\"colab-df-buttons\">\n",
              "\n",
              "  <div class=\"colab-df-container\">\n",
              "    <button class=\"colab-df-convert\" onclick=\"convertToInteractive('df-49d3e355-a1b0-4791-bf82-d7a9aaff4f9f')\"\n",
              "            title=\"Convert this dataframe to an interactive table.\"\n",
              "            style=\"display:none;\">\n",
              "\n",
              "  <svg xmlns=\"http://www.w3.org/2000/svg\" height=\"24px\" viewBox=\"0 -960 960 960\">\n",
              "    <path d=\"M120-120v-720h720v720H120Zm60-500h600v-160H180v160Zm220 220h160v-160H400v160Zm0 220h160v-160H400v160ZM180-400h160v-160H180v160Zm440 0h160v-160H620v160ZM180-180h160v-160H180v160Zm440 0h160v-160H620v160Z\"/>\n",
              "  </svg>\n",
              "    </button>\n",
              "\n",
              "  <style>\n",
              "    .colab-df-container {\n",
              "      display:flex;\n",
              "      gap: 12px;\n",
              "    }\n",
              "\n",
              "    .colab-df-convert {\n",
              "      background-color: #E8F0FE;\n",
              "      border: none;\n",
              "      border-radius: 50%;\n",
              "      cursor: pointer;\n",
              "      display: none;\n",
              "      fill: #1967D2;\n",
              "      height: 32px;\n",
              "      padding: 0 0 0 0;\n",
              "      width: 32px;\n",
              "    }\n",
              "\n",
              "    .colab-df-convert:hover {\n",
              "      background-color: #E2EBFA;\n",
              "      box-shadow: 0px 1px 2px rgba(60, 64, 67, 0.3), 0px 1px 3px 1px rgba(60, 64, 67, 0.15);\n",
              "      fill: #174EA6;\n",
              "    }\n",
              "\n",
              "    .colab-df-buttons div {\n",
              "      margin-bottom: 4px;\n",
              "    }\n",
              "\n",
              "    [theme=dark] .colab-df-convert {\n",
              "      background-color: #3B4455;\n",
              "      fill: #D2E3FC;\n",
              "    }\n",
              "\n",
              "    [theme=dark] .colab-df-convert:hover {\n",
              "      background-color: #434B5C;\n",
              "      box-shadow: 0px 1px 3px 1px rgba(0, 0, 0, 0.15);\n",
              "      filter: drop-shadow(0px 1px 2px rgba(0, 0, 0, 0.3));\n",
              "      fill: #FFFFFF;\n",
              "    }\n",
              "  </style>\n",
              "\n",
              "    <script>\n",
              "      const buttonEl =\n",
              "        document.querySelector('#df-49d3e355-a1b0-4791-bf82-d7a9aaff4f9f button.colab-df-convert');\n",
              "      buttonEl.style.display =\n",
              "        google.colab.kernel.accessAllowed ? 'block' : 'none';\n",
              "\n",
              "      async function convertToInteractive(key) {\n",
              "        const element = document.querySelector('#df-49d3e355-a1b0-4791-bf82-d7a9aaff4f9f');\n",
              "        const dataTable =\n",
              "          await google.colab.kernel.invokeFunction('convertToInteractive',\n",
              "                                                    [key], {});\n",
              "        if (!dataTable) return;\n",
              "\n",
              "        const docLinkHtml = 'Like what you see? Visit the ' +\n",
              "          '<a target=\"_blank\" href=https://colab.research.google.com/notebooks/data_table.ipynb>data table notebook</a>'\n",
              "          + ' to learn more about interactive tables.';\n",
              "        element.innerHTML = '';\n",
              "        dataTable['output_type'] = 'display_data';\n",
              "        await google.colab.output.renderOutput(dataTable, element);\n",
              "        const docLink = document.createElement('div');\n",
              "        docLink.innerHTML = docLinkHtml;\n",
              "        element.appendChild(docLink);\n",
              "      }\n",
              "    </script>\n",
              "  </div>\n",
              "\n",
              "\n",
              "<div id=\"df-4216aafb-e17b-4a42-b678-c343a2d4f828\">\n",
              "  <button class=\"colab-df-quickchart\" onclick=\"quickchart('df-4216aafb-e17b-4a42-b678-c343a2d4f828')\"\n",
              "            title=\"Suggest charts\"\n",
              "            style=\"display:none;\">\n",
              "\n",
              "<svg xmlns=\"http://www.w3.org/2000/svg\" height=\"24px\"viewBox=\"0 0 24 24\"\n",
              "     width=\"24px\">\n",
              "    <g>\n",
              "        <path d=\"M19 3H5c-1.1 0-2 .9-2 2v14c0 1.1.9 2 2 2h14c1.1 0 2-.9 2-2V5c0-1.1-.9-2-2-2zM9 17H7v-7h2v7zm4 0h-2V7h2v10zm4 0h-2v-4h2v4z\"/>\n",
              "    </g>\n",
              "</svg>\n",
              "  </button>\n",
              "\n",
              "<style>\n",
              "  .colab-df-quickchart {\n",
              "      --bg-color: #E8F0FE;\n",
              "      --fill-color: #1967D2;\n",
              "      --hover-bg-color: #E2EBFA;\n",
              "      --hover-fill-color: #174EA6;\n",
              "      --disabled-fill-color: #AAA;\n",
              "      --disabled-bg-color: #DDD;\n",
              "  }\n",
              "\n",
              "  [theme=dark] .colab-df-quickchart {\n",
              "      --bg-color: #3B4455;\n",
              "      --fill-color: #D2E3FC;\n",
              "      --hover-bg-color: #434B5C;\n",
              "      --hover-fill-color: #FFFFFF;\n",
              "      --disabled-bg-color: #3B4455;\n",
              "      --disabled-fill-color: #666;\n",
              "  }\n",
              "\n",
              "  .colab-df-quickchart {\n",
              "    background-color: var(--bg-color);\n",
              "    border: none;\n",
              "    border-radius: 50%;\n",
              "    cursor: pointer;\n",
              "    display: none;\n",
              "    fill: var(--fill-color);\n",
              "    height: 32px;\n",
              "    padding: 0;\n",
              "    width: 32px;\n",
              "  }\n",
              "\n",
              "  .colab-df-quickchart:hover {\n",
              "    background-color: var(--hover-bg-color);\n",
              "    box-shadow: 0 1px 2px rgba(60, 64, 67, 0.3), 0 1px 3px 1px rgba(60, 64, 67, 0.15);\n",
              "    fill: var(--button-hover-fill-color);\n",
              "  }\n",
              "\n",
              "  .colab-df-quickchart-complete:disabled,\n",
              "  .colab-df-quickchart-complete:disabled:hover {\n",
              "    background-color: var(--disabled-bg-color);\n",
              "    fill: var(--disabled-fill-color);\n",
              "    box-shadow: none;\n",
              "  }\n",
              "\n",
              "  .colab-df-spinner {\n",
              "    border: 2px solid var(--fill-color);\n",
              "    border-color: transparent;\n",
              "    border-bottom-color: var(--fill-color);\n",
              "    animation:\n",
              "      spin 1s steps(1) infinite;\n",
              "  }\n",
              "\n",
              "  @keyframes spin {\n",
              "    0% {\n",
              "      border-color: transparent;\n",
              "      border-bottom-color: var(--fill-color);\n",
              "      border-left-color: var(--fill-color);\n",
              "    }\n",
              "    20% {\n",
              "      border-color: transparent;\n",
              "      border-left-color: var(--fill-color);\n",
              "      border-top-color: var(--fill-color);\n",
              "    }\n",
              "    30% {\n",
              "      border-color: transparent;\n",
              "      border-left-color: var(--fill-color);\n",
              "      border-top-color: var(--fill-color);\n",
              "      border-right-color: var(--fill-color);\n",
              "    }\n",
              "    40% {\n",
              "      border-color: transparent;\n",
              "      border-right-color: var(--fill-color);\n",
              "      border-top-color: var(--fill-color);\n",
              "    }\n",
              "    60% {\n",
              "      border-color: transparent;\n",
              "      border-right-color: var(--fill-color);\n",
              "    }\n",
              "    80% {\n",
              "      border-color: transparent;\n",
              "      border-right-color: var(--fill-color);\n",
              "      border-bottom-color: var(--fill-color);\n",
              "    }\n",
              "    90% {\n",
              "      border-color: transparent;\n",
              "      border-bottom-color: var(--fill-color);\n",
              "    }\n",
              "  }\n",
              "</style>\n",
              "\n",
              "  <script>\n",
              "    async function quickchart(key) {\n",
              "      const quickchartButtonEl =\n",
              "        document.querySelector('#' + key + ' button');\n",
              "      quickchartButtonEl.disabled = true;  // To prevent multiple clicks.\n",
              "      quickchartButtonEl.classList.add('colab-df-spinner');\n",
              "      try {\n",
              "        const charts = await google.colab.kernel.invokeFunction(\n",
              "            'suggestCharts', [key], {});\n",
              "      } catch (error) {\n",
              "        console.error('Error during call to suggestCharts:', error);\n",
              "      }\n",
              "      quickchartButtonEl.classList.remove('colab-df-spinner');\n",
              "      quickchartButtonEl.classList.add('colab-df-quickchart-complete');\n",
              "    }\n",
              "    (() => {\n",
              "      let quickchartButtonEl =\n",
              "        document.querySelector('#df-4216aafb-e17b-4a42-b678-c343a2d4f828 button');\n",
              "      quickchartButtonEl.style.display =\n",
              "        google.colab.kernel.accessAllowed ? 'block' : 'none';\n",
              "    })();\n",
              "  </script>\n",
              "</div>\n",
              "\n",
              "    </div>\n",
              "  </div>\n"
            ],
            "application/vnd.google.colaboratory.intrinsic+json": {
              "type": "dataframe",
              "summary": "{\n  \"name\": \"    print(f\\\"Ensure the file exists at: {data_file}\\\")\",\n  \"rows\": 5,\n  \"fields\": [\n    {\n      \"column\": \"Shortness_of_Breath\",\n      \"properties\": {\n        \"dtype\": \"number\",\n        \"std\": 0.8937357337008938,\n        \"min\": -1.555832747798582,\n        \"max\": 0.5158486740370797,\n        \"num_unique_values\": 5,\n        \"samples\": [\n          0.1705684370644694,\n          -0.8652722738533615,\n          0.5158486740370797\n        ],\n        \"semantic_type\": \"\",\n        \"description\": \"\"\n      }\n    },\n    {\n      \"column\": \"Cough_Intensity\",\n      \"properties\": {\n        \"dtype\": \"number\",\n        \"std\": 0.709979298700642,\n        \"min\": -0.2078261293575964,\n        \"max\": 1.5040859740822417,\n        \"num_unique_values\": 5,\n        \"samples\": [\n          1.161703553394274,\n          -0.2078261293575964,\n          0.4769387120183388\n        ],\n        \"semantic_type\": \"\",\n        \"description\": \"\"\n      }\n    },\n    {\n      \"column\": \"Chest_Tightness\",\n      \"properties\": {\n        \"dtype\": \"number\",\n        \"std\": 1.1376759713665108,\n        \"min\": -0.7988987313300143,\n        \"max\": 1.6022567514136958,\n        \"num_unique_values\": 4,\n        \"samples\": [\n          -0.7988987313300143,\n          1.6022567514136958,\n          1.259234539593166\n        ],\n        \"semantic_type\": \"\",\n        \"description\": \"\"\n      }\n    },\n    {\n      \"column\": \"Wheezing\",\n      \"properties\": {\n        \"dtype\": \"number\",\n        \"std\": 1.5377665527878601,\n        \"min\": -1.598928349727824,\n        \"max\": 1.5192417797522226,\n        \"num_unique_values\": 4,\n        \"samples\": [\n          -1.2524650020078187,\n          -1.598928349727824,\n          1.5192417797522226\n        ],\n        \"semantic_type\": \"\",\n        \"description\": \"\"\n      }\n    },\n    {\n      \"column\": \"Fatigue\",\n      \"properties\": {\n        \"dtype\": \"number\",\n        \"std\": 1.0858886274886714,\n        \"min\": -1.2056587617395442,\n        \"max\": 1.583603844945347,\n        \"num_unique_values\": 5,\n        \"samples\": [\n          1.2349460191097354,\n          0.8862881932741241,\n          1.583603844945347\n        ],\n        \"semantic_type\": \"\",\n        \"description\": \"\"\n      }\n    },\n    {\n      \"column\": \"Age\",\n      \"properties\": {\n        \"dtype\": \"number\",\n        \"std\": 1.365263290341045,\n        \"min\": -1.460718159732719,\n        \"max\": 1.5235294669223156,\n        \"num_unique_values\": 5,\n        \"samples\": [\n          1.0972083774001675,\n          -1.3186111298920031,\n          1.5235294669223156\n        ],\n        \"semantic_type\": \"\",\n        \"description\": \"\"\n      }\n    },\n    {\n      \"column\": \"Smoking_History\",\n      \"properties\": {\n        \"dtype\": \"number\",\n        \"std\": 0,\n        \"min\": 0,\n        \"max\": 2,\n        \"num_unique_values\": 3,\n        \"samples\": [\n          2,\n          0,\n          1\n        ],\n        \"semantic_type\": \"\",\n        \"description\": \"\"\n      }\n    },\n    {\n      \"column\": \"Comorbidities\",\n      \"properties\": {\n        \"dtype\": \"number\",\n        \"std\": 0,\n        \"min\": 0,\n        \"max\": 2,\n        \"num_unique_values\": 3,\n        \"samples\": [\n          0,\n          2,\n          1\n        ],\n        \"semantic_type\": \"\",\n        \"description\": \"\"\n      }\n    },\n    {\n      \"column\": \"Mucus_Amount\",\n      \"properties\": {\n        \"dtype\": \"number\",\n        \"std\": 1.2574067575463168,\n        \"min\": -1.525782523235996,\n        \"max\": 1.5697389278412934,\n        \"num_unique_values\": 5,\n        \"samples\": [\n          -1.525782523235996,\n          1.5697389278412934,\n          -0.5971260879128093\n        ],\n        \"semantic_type\": \"\",\n        \"description\": \"\"\n      }\n    },\n    {\n      \"column\": \"Mucus_Color\",\n      \"properties\": {\n        \"dtype\": \"number\",\n        \"std\": 0,\n        \"min\": 0,\n        \"max\": 2,\n        \"num_unique_values\": 2,\n        \"samples\": [\n          0,\n          2\n        ],\n        \"semantic_type\": \"\",\n        \"description\": \"\"\n      }\n    },\n    {\n      \"column\": \"Fever_Last_2_Weeks\",\n      \"properties\": {\n        \"dtype\": \"number\",\n        \"std\": 0,\n        \"min\": 0,\n        \"max\": 1,\n        \"num_unique_values\": 2,\n        \"samples\": [\n          1,\n          0\n        ],\n        \"semantic_type\": \"\",\n        \"description\": \"\"\n      }\n    },\n    {\n      \"column\": \"Respiratory_Rate\",\n      \"properties\": {\n        \"dtype\": \"number\",\n        \"std\": 1.2879370613127115,\n        \"min\": -1.3784379729971663,\n        \"max\": 1.6278483978367186,\n        \"num_unique_values\": 5,\n        \"samples\": [\n          1.6278483978367186,\n          0.0690332425895189\n        ],\n        \"semantic_type\": \"\",\n        \"description\": \"\"\n      }\n    },\n    {\n      \"column\": \"Hospital_Admission\",\n      \"properties\": {\n        \"dtype\": \"number\",\n        \"std\": 0,\n        \"min\": 1,\n        \"max\": 1,\n        \"num_unique_values\": 1,\n        \"samples\": [\n          1\n        ],\n        \"semantic_type\": \"\",\n        \"description\": \"\"\n      }\n    }\n  ]\n}"
            }
          },
          "metadata": {}
        }
      ],
      "execution_count": 4
    },
    {
      "cell_type": "markdown",
      "id": "1134efed7abcd638",
      "metadata": {
        "id": "1134efed7abcd638"
      },
      "source": [
        "## PART 3: Preprocess the Data\n",
        "This part preprocesses the dataset, including splitting into training, testing sets, and scaling the fields to ingest into the machine learning model.\n"
      ]
    },
    {
      "cell_type": "code",
      "id": "6231094e00250003",
      "metadata": {
        "id": "6231094e00250003",
        "outputId": "e4e2f5ea-a901-43a8-b501-8912b7f1e7c9",
        "colab": {
          "base_uri": "https://localhost:8080/"
        }
      },
      "source": [
        "# Splitting features and target variable\n",
        "X = df.drop(columns=[\"Hospital_Admission\"])  # Replace with actual target column name\n",
        "y = df[\"Hospital_Admission\"]\n",
        "\n",
        "# Train-test split\n",
        "X_train, X_test, y_train, y_test = train_test_split(X, y, test_size=0.2, random_state=42)\n",
        "\n",
        "# Standardizing the features\n",
        "scaler = StandardScaler()\n",
        "X_train_scaled = scaler.fit_transform(X_train)\n",
        "X_test_scaled = scaler.transform(X_test)\n",
        "\n",
        "print(\"Data preprocessing completed.\")\n"
      ],
      "outputs": [
        {
          "output_type": "stream",
          "name": "stdout",
          "text": [
            "Data preprocessing completed.\n"
          ]
        }
      ],
      "execution_count": 6
    },
    {
      "cell_type": "markdown",
      "id": "fc91a36537df95fb",
      "metadata": {
        "id": "fc91a36537df95fb"
      },
      "source": [
        "## PART 4: Train the Model\n",
        "This part includes training the logistic regression model on the provided dataset and prepares it for analysis.\n"
      ]
    },
    {
      "cell_type": "code",
      "id": "934a53c036b1f8f",
      "metadata": {
        "id": "934a53c036b1f8f",
        "outputId": "9d92a6af-782b-430e-fc26-995e8695155f",
        "colab": {
          "base_uri": "https://localhost:8080/"
        }
      },
      "source": [
        "# Initializing and training the logistic regression model\n",
        "model = LogisticRegression(\n",
        "    class_weight=\"balanced\",  # Handling imbalanced data\n",
        "    max_iter=5000,\n",
        "    solver=\"liblinear\"\n",
        ")\n",
        "model.fit(X_train_scaled, y_train)\n",
        "\n",
        "print(\"Model training completed.\")\n"
      ],
      "outputs": [
        {
          "output_type": "stream",
          "name": "stdout",
          "text": [
            "Model training completed.\n"
          ]
        }
      ],
      "execution_count": 7
    },
    {
      "cell_type": "markdown",
      "id": "bd9ca7d790f2a6cd",
      "metadata": {
        "id": "bd9ca7d790f2a6cd"
      },
      "source": [
        "## PART 5: Evaluate the Model\n",
        "This part evaluates the model using accuracy, precision, recall, and F1-score metrics. It also generates a confusion matrix and its values, and implementing a description of the data using Pandas dataframe describe() function.\n"
      ]
    },
    {
      "cell_type": "code",
      "id": "6e5833d16b7d49b7",
      "metadata": {
        "id": "6e5833d16b7d49b7",
        "colab": {
          "base_uri": "https://localhost:8080/"
        },
        "outputId": "bd81bf9c-2f70-4e7f-d849-afed2bb50419"
      },
      "source": [
        "# Making predictions\n",
        "y_pred = model.predict(X_test_scaled)\n",
        "y_proba = model.predict_proba(X_test_scaled)[:, 1]  # Probability scores\n",
        "\n",
        "# Confusion matrix\n",
        "conf_matrix = confusion_matrix(y_test, y_pred)\n",
        "print(\"Confusion Matrix:\")\n",
        "print(conf_matrix)\n",
        "\n",
        "# Classification report\n",
        "class_report = classification_report(y_test, y_pred)\n",
        "print(\"\\n\\nClassification Report:\")\n",
        "print(class_report)\n",
        "\n",
        "# ROC-AUC Score\n",
        "roc_auc = roc_auc_score(y_test, y_proba)\n",
        "print(f\"\\nROC-AUC Score: {roc_auc}\\n\\n\")\n",
        "\n",
        "print(\"Pandas DataFrame description:\\n\")\n",
        "print(df.describe())\n"
      ],
      "outputs": [
        {
          "output_type": "stream",
          "name": "stdout",
          "text": [
            "Confusion Matrix:\n",
            "[[41 19]\n",
            " [43 97]]\n",
            "\n",
            "\n",
            "Classification Report:\n",
            "              precision    recall  f1-score   support\n",
            "\n",
            "           0       0.49      0.68      0.57        60\n",
            "           1       0.84      0.69      0.76       140\n",
            "\n",
            "    accuracy                           0.69       200\n",
            "   macro avg       0.66      0.69      0.66       200\n",
            "weighted avg       0.73      0.69      0.70       200\n",
            "\n",
            "\n",
            "ROC-AUC Score: 0.7485714285714286\n",
            "\n",
            "\n",
            "Pandas DataFrame description:\n",
            "\n",
            "       Shortness_of_Breath  Cough_Intensity  Chest_Tightness      Wheezing  \\\n",
            "count         1.000000e+03     1.000000e+03     1.000000e+03  1.000000e+03   \n",
            "mean         -7.194245e-17    -6.039613e-17     1.136868e-16 -6.394885e-17   \n",
            "std           1.000500e+00     1.000500e+00     1.000500e+00  1.000500e+00   \n",
            "min          -1.555833e+00    -1.577356e+00    -1.484943e+00 -1.598928e+00   \n",
            "25%          -8.652723e-01    -8.925910e-01    -7.988987e-01 -9.060017e-01   \n",
            "50%           1.705684e-01     1.345563e-01    -1.128543e-01  1.333884e-01   \n",
            "75%           8.611289e-01     8.193211e-01     9.162123e-01  8.263151e-01   \n",
            "max           1.551689e+00     1.504086e+00     1.602257e+00  1.519242e+00   \n",
            "\n",
            "            Fatigue           Age  Smoking_History  Comorbidities  \\\n",
            "count  1.000000e+03  1.000000e+03      1000.000000    1000.000000   \n",
            "mean  -6.705747e-17 -1.065814e-17         0.982000       1.561000   \n",
            "std    1.000500e+00  1.000500e+00         0.822406       1.112437   \n",
            "min   -1.554317e+00 -1.673879e+00         0.000000       0.000000   \n",
            "25%   -8.570009e-01 -8.922900e-01         0.000000       1.000000   \n",
            "50%    1.889725e-01  3.140565e-02         1.000000       2.000000   \n",
            "75%    8.862882e-01  8.129943e-01         2.000000       3.000000   \n",
            "max    1.583604e+00  1.807744e+00         2.000000       3.000000   \n",
            "\n",
            "       Mucus_Amount  Mucus_Color  Fever_Last_2_Weeks  Respiratory_Rate  \\\n",
            "count  1.000000e+03  1000.000000         1000.000000      1.000000e+03   \n",
            "mean  -1.207923e-16     0.754000            0.301000      9.192647e-17   \n",
            "std    1.000500e+00     0.893466            0.458922      1.000500e+00   \n",
            "min   -1.525783e+00     0.000000            0.000000     -1.378438e+00   \n",
            "25%   -9.066782e-01     0.000000            0.000000     -8.217183e-01   \n",
            "50%    2.197820e-02     0.000000            0.000000     -2.649986e-01   \n",
            "75%    9.506346e-01     1.000000            1.000000      8.484408e-01   \n",
            "max    1.569739e+00     3.000000            1.000000      1.961880e+00   \n",
            "\n",
            "       Hospital_Admission  \n",
            "count         1000.000000  \n",
            "mean             0.668000  \n",
            "std              0.471167  \n",
            "min              0.000000  \n",
            "25%              0.000000  \n",
            "50%              1.000000  \n",
            "75%              1.000000  \n",
            "max              1.000000  \n"
          ]
        }
      ],
      "execution_count": 19
    },
    {
      "cell_type": "markdown",
      "id": "3ab74a1f108d9ce1",
      "metadata": {
        "id": "3ab74a1f108d9ce1"
      },
      "source": [
        "## PART 6: Save the Model\n",
        "Ready the model by saving for future deployment."
      ]
    },
    {
      "cell_type": "code",
      "id": "13bd8af3d724c149",
      "metadata": {
        "id": "13bd8af3d724c149",
        "colab": {
          "base_uri": "https://localhost:8080/"
        },
        "outputId": "62330ea4-3542-4f16-d880-4ba45d7f90aa"
      },
      "source": [
        "# Saving the trained model for deployment\n",
        "model_file = os.path.join(base_dir, \"model\", \"logistic_model.pkl\")\n",
        "\n",
        "try:\n",
        "    os.makedirs(os.path.join(base_dir, \"model\"), exist_ok=True)  # Ensure the directory exists\n",
        "    joblib.dump(model, model_file)\n",
        "    print(f\"Model saved at: {model_file}\")\n",
        "except Exception as e:\n",
        "    print(f\"Error saving model: {e}\")\n"
      ],
      "outputs": [
        {
          "output_type": "stream",
          "name": "stdout",
          "text": [
            "Model saved at: /model/logistic_model.pkl\n"
          ]
        }
      ],
      "execution_count": 12
    },
    {
      "cell_type": "markdown",
      "id": "4d8a84303887ddd2",
      "metadata": {
        "id": "4d8a84303887ddd2"
      },
      "source": [
        "## PART 7: Load Model\n",
        "Test that the model is functional after saving and does not require retraining.\n"
      ]
    },
    {
      "cell_type": "code",
      "id": "af8b785426b5d9ed",
      "metadata": {
        "id": "af8b785426b5d9ed",
        "colab": {
          "base_uri": "https://localhost:8080/"
        },
        "outputId": "b74d4a33-033a-4d27-be14-4b028914c6f2"
      },
      "source": [
        "# Loading the saved model\n",
        "try:\n",
        "    loaded_model = joblib.load(model_file)\n",
        "    test_proba = loaded_model.predict_proba(X_test_scaled)[:, 1]\n",
        "    print(\"Model loaded successfully.\")\n",
        "    print(f\"Sample Prediction Probability: {test_proba[:5]}\")\n",
        "except Exception as e:\n",
        "    print(f\"Error loading model: {e}\")\n"
      ],
      "outputs": [
        {
          "output_type": "stream",
          "name": "stdout",
          "text": [
            "Model loaded successfully.\n",
            "Sample Prediction Probability: [0.59382701 0.48894685 0.46230041 0.72851429 0.72599083]\n"
          ]
        }
      ],
      "execution_count": 13
    },
    {
      "metadata": {
        "id": "12a8f8d45842fd5b"
      },
      "cell_type": "markdown",
      "source": [
        "## Part 8: Visit the UI on Heroku\n",
        "https://copd-hospital-assessment-2902c73cfbc3.herokuapp.com/"
      ],
      "id": "12a8f8d45842fd5b"
    }
  ],
  "metadata": {
    "kernelspec": {
      "display_name": "Python 3 (ipykernel)",
      "language": "python",
      "name": "python3"
    },
    "language_info": {
      "codemirror_mode": {
        "name": "ipython",
        "version": 3
      },
      "file_extension": ".py",
      "mimetype": "text/x-python",
      "name": "python",
      "nbconvert_exporter": "python",
      "pygments_lexer": "ipython3",
      "version": "3.13.0"
    },
    "colab": {
      "provenance": []
    }
  },
  "nbformat": 4,
  "nbformat_minor": 5
}